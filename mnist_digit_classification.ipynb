{
 "cells": [
  {
   "cell_type": "markdown",
   "metadata": {},
   "source": [
    "# MNIST digit classification: Neural Network\n",
    "\n",
    "In this notebook, we classify the hand-written digits 0-9, using the famous MNIST dataset. For classification, we implement a multi-layer neural network model"
   ]
  },
  {
   "cell_type": "markdown",
   "metadata": {},
   "source": [
    "Let's import all the required packages"
   ]
  },
  {
   "cell_type": "code",
   "execution_count": 1,
   "metadata": {},
   "outputs": [],
   "source": [
    "import torch\n",
    "import torch.nn as nn\n",
    "import torchvision\n",
    "import torchvision.transforms as transforms\n",
    "\n",
    "import matplotlib.pyplot as plt\n",
    "%matplotlib inline\n",
    "\n",
    "device = torch.device('cuda' if torch.cuda.is_available() else 'cpu')"
   ]
  },
  {
   "cell_type": "markdown",
   "metadata": {},
   "source": [
    "## Dataset\n",
    "\n",
    "We can import the datasets using torchvision"
   ]
  },
  {
   "cell_type": "code",
   "execution_count": 2,
   "metadata": {},
   "outputs": [],
   "source": [
    "train_dataset = torchvision.datasets.MNIST(root = '.', \n",
    "                                           train = True,                       # training data\n",
    "                                           transform = transforms.ToTensor(),  # transform\n",
    "                                           download = True)        # download if not available\n",
    "\n",
    "test_dataset = torchvision.datasets.MNIST(root = '.', \n",
    "                                           train = False,                      # test data\n",
    "                                           transform = transforms.ToTensor())  # transform"
   ]
  },
  {
   "cell_type": "code",
   "execution_count": 3,
   "metadata": {},
   "outputs": [
    {
     "name": "stdout",
     "output_type": "stream",
     "text": [
      "Dataset MNIST\n",
      "    Number of datapoints: 60000\n",
      "    Root location: .\n",
      "    Split: Train\n",
      "    StandardTransform\n",
      "Transform: ToTensor()\n",
      "----------\n",
      "Dataset MNIST\n",
      "    Number of datapoints: 10000\n",
      "    Root location: .\n",
      "    Split: Test\n",
      "    StandardTransform\n",
      "Transform: ToTensor()\n"
     ]
    }
   ],
   "source": [
    "print(train_dataset)\n",
    "print('----------')\n",
    "print(test_dataset)"
   ]
  },
  {
   "cell_type": "code",
   "execution_count": 4,
   "metadata": {},
   "outputs": [
    {
     "name": "stdout",
     "output_type": "stream",
     "text": [
      "60000\n",
      "torch.Size([1, 28, 28]) 5\n"
     ]
    }
   ],
   "source": [
    "print(len(train_dataset))\n",
    "\n",
    "image, label = train_dataset[0]\n",
    "print(image.size(), label)"
   ]
  },
  {
   "cell_type": "markdown",
   "metadata": {},
   "source": [
    "We have 60,000 images of size 1 * 28 * 28, where 1 is color channel (black and white images) and images are of size 28 * 28"
   ]
  },
  {
   "cell_type": "markdown",
   "metadata": {},
   "source": [
    "Now, let's define the dataloaders objects for batch training"
   ]
  },
  {
   "cell_type": "code",
   "execution_count": 5,
   "metadata": {},
   "outputs": [],
   "source": [
    "batch_size = 100     # batch size for batch training\n",
    "\n",
    "train_loader = torch.utils.data.DataLoader(dataset = train_dataset,\n",
    "                                          batch_size = batch_size,\n",
    "                                          shuffle = True)\n",
    "\n",
    "test_loader = torch.utils.data.DataLoader(dataset = test_dataset,\n",
    "                                          batch_size = batch_size,\n",
    "                                          shuffle = False)         # does not matter on test data"
   ]
  },
  {
   "cell_type": "markdown",
   "metadata": {},
   "source": [
    "Let's have a look at one batch of this data"
   ]
  },
  {
   "cell_type": "code",
   "execution_count": 6,
   "metadata": {},
   "outputs": [
    {
     "name": "stdout",
     "output_type": "stream",
     "text": [
      "torch.Size([100, 1, 28, 28]) torch.Size([100])\n"
     ]
    },
    {
     "data": {
      "image/png": "[encoded data removed]",
      "text/plain": [
       "<Figure size 432x288 with 6 Axes>"
      ]
     },
     "metadata": {
      "needs_background": "light"
     },
     "output_type": "display_data"
    }
   ],
   "source": [
    "test_iter = iter(train_loader)\n",
    "samples, labels = test_iter.next()\n",
    "print(samples.shape, labels.shape)    # outputs [100, 1, 28, 28]: 100 examples, 1 color channel, 28 * 28 images\n",
    "\n",
    "for i in range(6):\n",
    "    plt.subplot(2, 3, i+1)                        # 2 rows, 3 columns\n",
    "    plt.imshow(samples[i][0], cmap = 'gray')\n",
    "plt.show()"
   ]
  },
  {
   "cell_type": "markdown",
   "metadata": {},
   "source": [
    "## Model and Training\n",
    "\n",
    "First, lets define the model we want to train. Our model is a fully connected neural network with one hidden layer"
   ]
  },
  {
   "cell_type": "code",
   "execution_count": 7,
   "metadata": {},
   "outputs": [],
   "source": [
    "class NeuralNet(nn.Module):\n",
    "    \n",
    "    def __init__(self, input_size, hidden_size, n_classes):     # n_classes is the output size       \n",
    "        super(NeuralNet, self).__init__()\n",
    "        self.layer1 = nn.Linear(input_size, hidden_size)\n",
    "        self.layer2 = nn.Linear(hidden_size, n_classes)\n",
    "        \n",
    "    def forward(self, x):\n",
    "        out = torch.relu(self.layer1(x))\n",
    "        out = self.layer2(out)\n",
    "        return out"
   ]
  },
  {
   "cell_type": "markdown",
   "metadata": {},
   "source": [
    "Now, we train the model"
   ]
  },
  {
   "cell_type": "code",
   "execution_count": 8,
   "metadata": {},
   "outputs": [
    {
     "name": "stdout",
     "output_type": "stream",
     "text": [
      "epoch: 1/20; accuracy = 93.84\n",
      "epoch: 2/20; accuracy = 95.44\n",
      "epoch: 3/20; accuracy = 96.27\n",
      "epoch: 4/20; accuracy = 96.74\n",
      "epoch: 5/20; accuracy = 97.13\n",
      "epoch: 6/20; accuracy = 97.36\n",
      "epoch: 7/20; accuracy = 97.61\n",
      "epoch: 8/20; accuracy = 97.5\n",
      "epoch: 9/20; accuracy = 97.55\n",
      "epoch: 10/20; accuracy = 97.52\n",
      "epoch: 11/20; accuracy = 97.59\n",
      "epoch: 12/20; accuracy = 97.8\n",
      "epoch: 13/20; accuracy = 97.65\n",
      "epoch: 14/20; accuracy = 97.55\n",
      "epoch: 15/20; accuracy = 97.65\n",
      "epoch: 16/20; accuracy = 97.62\n",
      "epoch: 17/20; accuracy = 97.83\n",
      "epoch: 18/20; accuracy = 97.71\n",
      "epoch: 19/20; accuracy = 97.81\n",
      "epoch: 20/20; accuracy = 97.74\n"
     ]
    }
   ],
   "source": [
    "input_size = 784                # images are 28 * 28\n",
    "hidden_size = 100\n",
    "n_classes = 10\n",
    "learning_rate = 0.001\n",
    "\n",
    "model = NeuralNet(input_size, hidden_size, n_classes)\n",
    "criterion = nn.CrossEntropyLoss()\n",
    "optimizer = torch.optim.Adam(model.parameters(), lr = learning_rate)\n",
    "\n",
    "n_epochs = 20\n",
    "n_total_steps = len(train_loader)\n",
    "\n",
    "for epoch in range(n_epochs):\n",
    "    \n",
    "    for i, (images, labels) in enumerate(train_loader):\n",
    "        \n",
    "        images = images.reshape(-1, 28*28).to(device)   # reshaping 100*1*28*28 to 100, 784\n",
    "        labels = labels.to(device)                      # to(device) pushes it to gpu if available \n",
    "        \n",
    "        outputs = model(images)                 # forward pass\n",
    "        loss = criterion(outputs, labels)       # loss computation                        \n",
    "        loss.backward()                         # back propagation\n",
    "        optimizer.step()                        # parameters update\n",
    "        optimizer.zero_grad()                   \n",
    "        \n",
    "        #if (i+1) % 100 == 0:\n",
    "        #    print(f'epoch: {epoch+1}/{n_epochs}; step: {i+1}/{n_total_steps}; loss: {loss.item():.4f}')\n",
    "            \n",
    "    with torch.no_grad():    # test\n",
    "            \n",
    "        n_correct = 0\n",
    "        n_samples = 0\n",
    "            \n",
    "        for images, labels in test_loader:\n",
    "                \n",
    "            images = images.reshape(-1, 28*28).to(device)\n",
    "            labels = labels.to(device)\n",
    "                \n",
    "            outputs = model(images)\n",
    "            _, predictions = torch.max(outputs, 1)  # returns value, index: our interest is only index\n",
    "            n_correct += (predictions == labels).sum().item()\n",
    "            n_samples += labels.shape[0]            # number of samples in current batch\n",
    "                \n",
    "        accuracy = 100.0 * n_correct / n_samples\n",
    "        print(f'epoch: {epoch+1}/{n_epochs}; accuracy = {accuracy}')"
   ]
  },
  {
   "cell_type": "markdown",
   "metadata": {},
   "source": [
    "Without any extensive hyperparameter tuning, our neural network with one hidden layer (100 neurons), is able to recognize digits with nearly 98% accuracy.\n",
    "\n",
    "Further directions to improve the accuracy could be:\n",
    " - A systematic hyperparameter tuning\n",
    " - Trying multi-layer neural networks\n",
    " - More data: 60,000 examples are not good enough to develop deep learning models"
   ]
  }
 ],
 "metadata": {
  "kernelspec": {
   "display_name": "Python 3",
   "language": "python",
   "name": "python3"
  },
  "language_info": {
   "codemirror_mode": {
    "name": "ipython",
    "version": 3
   },
   "file_extension": ".py",
   "mimetype": "text/x-python",
   "name": "python",
   "nbconvert_exporter": "python",
   "pygments_lexer": "ipython3",
   "version": "3.7.4"
  }
 },
 "nbformat": 4,
 "nbformat_minor": 2
}
